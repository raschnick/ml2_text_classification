{
 "cells": [
  {
   "cell_type": "markdown",
   "source": [
    "# Predict the quality of Wine based on the description with pre trained Word Embeddings\n"
   ],
   "metadata": {
    "collapsed": false
   }
  },
  {
   "cell_type": "markdown",
   "source": [
    "## Load and explore data"
   ],
   "metadata": {
    "collapsed": false
   }
  },
  {
   "cell_type": "code",
   "execution_count": null,
   "outputs": [],
   "source": [
    "import gensim.models\n",
    "import gensim\n",
    "import numpy as np\n",
    "import pandas as pd\n",
    "import re\n",
    "\n",
    "df = pd.read_csv('data/winemag-data-130k-v2.csv')\n",
    "df.head()"
   ],
   "metadata": {
    "collapsed": false,
    "pycharm": {
     "name": "#%%\n"
    }
   }
  },
  {
   "cell_type": "code",
   "execution_count": null,
   "outputs": [],
   "source": [
    "df.info()\n",
    "df.points.value_counts()"
   ],
   "metadata": {
    "collapsed": false,
    "pycharm": {
     "name": "#%%\n"
    }
   }
  },
  {
   "cell_type": "code",
   "execution_count": null,
   "outputs": [],
   "source": [
    "# split points into binary label (80-89 = bad, 90-99 = good)\n",
    "df['label'] = df['points'].apply(lambda x: 'good' if x > 89 else 'bad')\n",
    "\n",
    "df.head()"
   ],
   "metadata": {
    "collapsed": false,
    "pycharm": {
     "name": "#%%\n"
    }
   }
  },
  {
   "cell_type": "markdown",
   "source": [
    "## Modelling"
   ],
   "metadata": {
    "collapsed": false
   }
  },
  {
   "cell_type": "code",
   "execution_count": null,
   "outputs": [],
   "source": [
    "clean_txt = []\n",
    "\n",
    "# TODO: find a better cleaning approach!\n",
    "for w in range(len(df.description)):\n",
    "    # make text lower case\n",
    "    desc = df['description'][w].lower()\n",
    "\n",
    "    #remove punctuation\n",
    "    desc = re.sub('[^a-zA-Z]', ' ', desc)\n",
    "\n",
    "    #remove tags\n",
    "    desc = re.sub('&lt;/?.*?&gt;', ' &lt;&gt; ', desc)\n",
    "\n",
    "    #remove digits and special chars\n",
    "    desc = re.sub('(\\\\d|\\\\W)+', ' ', desc)\n",
    "    clean_txt.append(desc)\n",
    "\n",
    "df['clean_desc'] = clean_txt\n",
    "df.head()"
   ],
   "metadata": {
    "collapsed": false,
    "pycharm": {
     "name": "#%%\n"
    }
   }
  },
  {
   "cell_type": "code",
   "execution_count": null,
   "outputs": [],
   "source": [
    "corpus = []\n",
    "for col in df.clean_desc:\n",
    "    word_list = col.split(' ')\n",
    "    corpus.append(word_list)"
   ],
   "metadata": {
    "collapsed": false,
    "pycharm": {
     "name": "#%%\n"
    }
   }
  },
  {
   "cell_type": "code",
   "execution_count": null,
   "outputs": [],
   "source": [
    "from sklearn.model_selection import train_test_split\n",
    "from sklearn.naive_bayes import BernoulliNB\n",
    "from sklearn.metrics import accuracy_score\n",
    "\n",
    "X = df['clean_desc']\n",
    "y = df['label']\n",
    "\n",
    "X_train, X_test, y_train, y_test = train_test_split(X, y, test_size=0.2, random_state=42)\n",
    "\n",
    "def sentence_to_vector(sentence, word_embedding):\n",
    "    vector = []\n",
    "    for word in sentence.split():\n",
    "        if word in word_embedding.wv:\n",
    "            vector.append(word_embedding.wv[word])\n",
    "    return np.mean(vector, axis=0)\n",
    "\n",
    "def train_bernoulli(word_embedding_path):\n",
    "    word_embedding = gensim.models.KeyedVectors.load(word_embedding_path)\n",
    "\n",
    "    train_vectors = [sentence_to_vector(sentence, word_embedding) for sentence in X_train]\n",
    "    test_vectors = [sentence_to_vector(sentence, word_embedding) for sentence in X_test]\n",
    "\n",
    "    nb_model = BernoulliNB()\n",
    "    nb_model.fit(train_vectors, y_train)\n",
    "\n",
    "    y_pred = nb_model.predict(test_vectors)\n",
    "\n",
    "    accuracy = accuracy_score(y_test, y_pred)\n",
    "    print(f'Accuracy: {accuracy}')\n",
    "    return nb_model"
   ],
   "metadata": {
    "collapsed": false,
    "pycharm": {
     "name": "#%%\n",
     "is_executing": true
    }
   }
  },
  {
   "cell_type": "code",
   "execution_count": null,
   "outputs": [],
   "source": [
    "# TODO: Continue that later https://machinelearningmastery.com/develop-word-embeddings-python-gensim\n",
    "# Other Pre Trained Embeddings: https://radimrehurek.com/gensim/models/word2vec.html#pretrained-models\n",
    "\n",
    "# This will download the google news model (which is around 1.7GB) so only run this once. Afterwards it will be saved to your disk for future usage.\n",
    "#import gensim.downloader\n",
    "#google_news_model = gensim.downloader.load('word2vec-google-news-300')\n",
    "#google_news_model.save('embeddings\\word2vec-google-news-300.bin')\n",
    "model_google_news = train_bernoulli('embeddings\\word2vec-google-news-300.bin')"
   ],
   "metadata": {
    "collapsed": false,
    "pycharm": {
     "name": "#%%\n"
    }
   }
  }
 ],
 "metadata": {
  "kernelspec": {
   "display_name": "Python 3",
   "language": "python",
   "name": "python3"
  },
  "language_info": {
   "codemirror_mode": {
    "name": "ipython",
    "version": 2
   },
   "file_extension": ".py",
   "mimetype": "text/x-python",
   "name": "python",
   "nbconvert_exporter": "python",
   "pygments_lexer": "ipython2",
   "version": "2.7.6"
  }
 },
 "nbformat": 4,
 "nbformat_minor": 0
}