{
 "cells": [
  {
   "cell_type": "markdown",
   "source": [
    "# Predict the reviewer of a Wine review based on the description with TFIDF"
   ],
   "metadata": {
    "collapsed": false
   }
  },
  {
   "cell_type": "markdown",
   "source": [
    "## Load and prepare data"
   ],
   "metadata": {
    "collapsed": false
   }
  },
  {
   "cell_type": "code",
   "execution_count": 1,
   "outputs": [],
   "source": [
    "import pandas as pd\n",
    "\n",
    "df = pd.read_csv('data/winemag-data-130k-v2.csv')"
   ],
   "metadata": {
    "collapsed": false
   }
  },
  {
   "cell_type": "code",
   "execution_count": 2,
   "outputs": [
    {
     "data": {
      "text/plain": "1                Roger Voss\n5         Michael Schachner\n7                Roger Voss\n9                Roger Voss\n11               Roger Voss\n                ...        \n129964           Roger Voss\n129965           Roger Voss\n129968           Roger Voss\n129969           Roger Voss\n129970           Roger Voss\nName: taster_name, Length: 40648, dtype: object"
     },
     "execution_count": 2,
     "metadata": {},
     "output_type": "execute_result"
    }
   ],
   "source": [
    "filtered_df = df.query('taster_name == \"Roger Voss\" | taster_name == \"Michael Schachner\"')\n",
    "\n",
    "filtered_df['taster_name']"
   ],
   "metadata": {
    "collapsed": false
   }
  },
  {
   "cell_type": "code",
   "execution_count": 3,
   "outputs": [],
   "source": [
    "from sklearn.model_selection import train_test_split\n",
    "\n",
    "X = filtered_df[\"description\"]\n",
    "y = filtered_df[\"taster_name\"]\n",
    "\n",
    "X_train, X_test, y_train, y_test = train_test_split(X, y, test_size=0.2, random_state=17)"
   ],
   "metadata": {
    "collapsed": false
   }
  },
  {
   "cell_type": "code",
   "execution_count": 4,
   "outputs": [
    {
     "name": "stdout",
     "output_type": "stream",
     "text": [
      "Accuracy: 0.9564575645756458\n"
     ]
    }
   ],
   "source": [
    "from util import train_bernoulli\n",
    "\n",
    "# Please note that the word embedding has to exist for this to run. To get it you can run the  \"predict_quality_with_custom_word_embedding.ipynb\" notebook\n",
    "model_min1_vs100 = train_bernoulli('embeddings\\description_emb.bin', X_train, X_test, y_train, y_test)"
   ],
   "metadata": {
    "collapsed": false
   }
  },
  {
   "cell_type": "markdown",
   "source": [
    "We can see that the word embedding performs slightly worse than with the tfidf vectorizing approach. But it has still a really good accuracy."
   ],
   "metadata": {
    "collapsed": false
   }
  }
 ],
 "metadata": {
  "kernelspec": {
   "display_name": "Python 3",
   "language": "python",
   "name": "python3"
  },
  "language_info": {
   "codemirror_mode": {
    "name": "ipython",
    "version": 2
   },
   "file_extension": ".py",
   "mimetype": "text/x-python",
   "name": "python",
   "nbconvert_exporter": "python",
   "pygments_lexer": "ipython2",
   "version": "2.7.6"
  }
 },
 "nbformat": 4,
 "nbformat_minor": 0
}
