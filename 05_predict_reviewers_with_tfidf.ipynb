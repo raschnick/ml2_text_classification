{
 "cells": [
  {
   "cell_type": "markdown",
   "source": [
    "# Predict the reviewer of a Wine review based on the description with TFIDF"
   ],
   "metadata": {
    "collapsed": false
   }
  },
  {
   "cell_type": "markdown",
   "source": [
    "## Load and prepare data"
   ],
   "metadata": {
    "collapsed": false
   }
  },
  {
   "cell_type": "code",
   "execution_count": 1,
   "outputs": [],
   "source": [
    "import pandas as pd\n",
    "\n",
    "df = pd.read_csv('data/winemag-data-130k-v2.csv')"
   ],
   "metadata": {
    "collapsed": false
   }
  },
  {
   "cell_type": "code",
   "execution_count": 2,
   "outputs": [],
   "source": [
    "# split points into binary label (80-89 = bad, 90-99 = good)\n",
    "df['label'] = df['points'].apply(lambda x: 'good' if x > 89 else 'bad')"
   ],
   "metadata": {
    "collapsed": false,
    "pycharm": {
     "name": "#%%\n"
    }
   }
  },
  {
   "cell_type": "code",
   "execution_count": 3,
   "outputs": [
    {
     "data": {
      "text/plain": "Roger Voss            25514\nMichael Schachner     15134\nKerin O’Keefe         10776\nVirginie Boone         9537\nPaul Gregutt           9532\nMatt Kettmann          6332\nJoe Czerwinski         5147\nSean P. Sullivan       4966\nAnna Lee C. Iijima     4415\nJim Gordon             4177\nAnne Krebiehl MW       3685\nLauren Buzzeo          1835\nSusan Kostrzewa        1085\nMike DeSimone           514\nJeff Jenssen            491\nAlexander Peartree      415\nCarrie Dykes            139\nFiona Adams              27\nChristina Pickard         6\nName: taster_name, dtype: int64"
     },
     "execution_count": 3,
     "metadata": {},
     "output_type": "execute_result"
    }
   ],
   "source": [
    "# find top 2 reviewers\n",
    "df.taster_name.value_counts()"
   ],
   "metadata": {
    "collapsed": false
   }
  },
  {
   "cell_type": "code",
   "execution_count": 4,
   "outputs": [
    {
     "data": {
      "text/plain": "1                Roger Voss\n5         Michael Schachner\n7                Roger Voss\n9                Roger Voss\n11               Roger Voss\n                ...        \n129964           Roger Voss\n129965           Roger Voss\n129968           Roger Voss\n129969           Roger Voss\n129970           Roger Voss\nName: taster_name, Length: 40648, dtype: object"
     },
     "execution_count": 4,
     "metadata": {},
     "output_type": "execute_result"
    }
   ],
   "source": [
    "filtered_df = df.query('taster_name == \"Roger Voss\" | taster_name == \"Michael Schachner\"')\n",
    "\n",
    "filtered_df['taster_name']"
   ],
   "metadata": {
    "collapsed": false
   }
  },
  {
   "cell_type": "code",
   "execution_count": 5,
   "outputs": [],
   "source": [
    "from sklearn.model_selection import train_test_split\n",
    "\n",
    "X = filtered_df[\"description\"]\n",
    "y = filtered_df[\"taster_name\"]\n",
    "\n",
    "X_train, X_test, y_train, y_test = train_test_split(X, y, test_size=0.2, random_state=17)"
   ],
   "metadata": {
    "collapsed": false
   }
  },
  {
   "cell_type": "code",
   "execution_count": 6,
   "outputs": [],
   "source": [
    "from sklearn.pipeline import Pipeline\n",
    "from sklearn.feature_extraction.text import TfidfVectorizer\n",
    "from sklearn.naive_bayes import MultinomialNB\n",
    "\n",
    "pipe = Pipeline([(\"tfidf\", TfidfVectorizer()), (\"model\", MultinomialNB())])\n",
    "predictor = pipe.fit(X_train, y_train)"
   ],
   "metadata": {
    "collapsed": false
   }
  },
  {
   "cell_type": "code",
   "execution_count": 7,
   "outputs": [
    {
     "name": "stdout",
     "output_type": "stream",
     "text": [
      "                   precision    recall  f1-score   support\n",
      "\n",
      "Michael Schachner       1.00      1.00      1.00      3017\n",
      "       Roger Voss       1.00      1.00      1.00      5113\n",
      "\n",
      "         accuracy                           1.00      8130\n",
      "        macro avg       1.00      1.00      1.00      8130\n",
      "     weighted avg       1.00      1.00      1.00      8130\n",
      "\n",
      "Accuracy: 0.9986469864698647\n"
     ]
    }
   ],
   "source": [
    "from sklearn import metrics\n",
    "\n",
    "predictions = pipe.predict(X_test)\n",
    "\n",
    "y_pred = pipe.predict(X_test)\n",
    "print(metrics.classification_report(y_test, y_pred))\n",
    "print(f'Accuracy: {metrics.accuracy_score(y_test, y_pred)}')"
   ],
   "metadata": {
    "collapsed": false,
    "pycharm": {
     "name": "#%%\n"
    }
   }
  }
 ],
 "metadata": {
  "kernelspec": {
   "display_name": "Python 3",
   "language": "python",
   "name": "python3"
  },
  "language_info": {
   "codemirror_mode": {
    "name": "ipython",
    "version": 2
   },
   "file_extension": ".py",
   "mimetype": "text/x-python",
   "name": "python",
   "nbconvert_exporter": "python",
   "pygments_lexer": "ipython2",
   "version": "2.7.6"
  }
 },
 "nbformat": 4,
 "nbformat_minor": 0
}